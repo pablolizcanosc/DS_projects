{
 "cells": [
  {
   "cell_type": "code",
   "execution_count": 1,
   "metadata": {},
   "outputs": [],
   "source": [
    "def add_1_ball_to_chains(chain_points, ball_points):\n",
    "    \"\"\"\n",
    "    given a chain of extractions and the points, it returns the possible chains after extracting another ball and their points\n",
    "    \"\"\"\n",
    "\n",
    "    chain = chain_points[0]\n",
    "    points = chain_points[1]\n",
    "    new_chains = []\n",
    "\n",
    "    for ball in ball_points:\n",
    "        new_chain = chain.copy()\n",
    "        new_chain.append(ball)\n",
    "        new_points = points + ball_points[ball]\n",
    "        new_chains.append((new_chain, new_points))\n",
    "\n",
    "    return new_chains\n",
    "\n",
    "def get_combinations(N, ball_points = {\"A\":2,\"B\":3,\"C\":4}):\n",
    "    \"\"\"\n",
    "    given the number of points, return a list with all the different ways of getting to that number\n",
    "    \"\"\"\n",
    "\n",
    "    uncompleted_chains = [([],0)]\n",
    "    completed_chains_N = []\n",
    "\n",
    "    while len(uncompleted_chains)>0:\n",
    "\n",
    "        new_uncompleted_chains = []\n",
    "        for uncompleted_chain in uncompleted_chains:\n",
    "            new_chains = add_1_ball_to_chains(uncompleted_chain, ball_points)\n",
    "            for new_chain in new_chains:\n",
    "                if new_chain[1]==N:\n",
    "                    completed_chains_N.append(new_chain[0])\n",
    "                elif new_chain[1]<N:\n",
    "                    new_uncompleted_chains.append(new_chain)\n",
    "        uncompleted_chains = new_uncompleted_chains\n",
    "\n",
    "    return completed_chains_N"
   ]
  },
  {
   "cell_type": "code",
   "execution_count": 2,
   "metadata": {},
   "outputs": [
    {
     "data": {
      "text/plain": [
       "[['A', 'C'], ['B', 'B'], ['C', 'A'], ['A', 'A', 'A']]"
      ]
     },
     "execution_count": 2,
     "metadata": {},
     "output_type": "execute_result"
    }
   ],
   "source": [
    "get_combinations(6)"
   ]
  },
  {
   "cell_type": "markdown",
   "metadata": {},
   "source": [
    "Complexity\n",
    "\n",
    "Notes:\n",
    "- NODB = “number of different balls”. In this case, NODB = 3\n",
    "- mPB = “minimum of points for a ball”. In our case, mPB = 2\n",
    "- MPB = “maximum of points for a ball”. In our case, MPB = 4\n",
    "\n",
    "In each iteration, those series which haven’t reached N points are used to generate new series by adding a new extraction and its correspondent points.\n",
    "\n",
    "- After the first iteration, we will have NODB series.\n",
    "\n",
    "- After the second one, we will have created NODB + NODB^2.\n",
    "\n",
    "- After the third one, we will have created NODB + NODB^2 + NODB^3 + … if the number of points N hasn’t been reached in any chain of extractions.\n",
    "\n",
    "The shortest valid chain of extractions will be obtained after approximately N/MPB extractions. At that moment, the algorithm will have generated NODB + NODB^2 + … + NODB^(N/MPB) series by adding balls and its points. From that moment on, some of those series will stop growing because they will have reached N points.\n",
    "\n",
    "The longest valid chain of extractions will be obtained after approximately N/mPB extractions. Therefore, we can say that the complexity of this solution is approximately NODB^(N/mPB).\n",
    "\n",
    "Probably there is a more efficient solution by finding first the longest valid chain and generating from it the rest of chains.\n"
   ]
  },
  {
   "cell_type": "code",
   "execution_count": null,
   "metadata": {},
   "outputs": [],
   "source": []
  }
 ],
 "metadata": {
  "interpreter": {
   "hash": "c97ecce26dba7aa90227e588081333bc7652aa1975e94a4913f86dbf4aaf30d8"
  },
  "kernelspec": {
   "display_name": "Python 3.10.7 ('ds_environment': venv)",
   "language": "python",
   "name": "python3"
  },
  "language_info": {
   "codemirror_mode": {
    "name": "ipython",
    "version": 3
   },
   "file_extension": ".py",
   "mimetype": "text/x-python",
   "name": "python",
   "nbconvert_exporter": "python",
   "pygments_lexer": "ipython3",
   "version": "3.10.7"
  },
  "orig_nbformat": 4
 },
 "nbformat": 4,
 "nbformat_minor": 2
}
